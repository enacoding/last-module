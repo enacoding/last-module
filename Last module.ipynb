{
 "cells": [
  {
   "cell_type": "markdown",
   "metadata": {},
   "source": [
    "# Analysis of Prop.55\n",
    "\n",
    "By Lorena Cano\n",
    "\n",
    "Excercise of the MOOC Python for Data Journalists: Analyzing Money in Politics."
   ]
  },
  {
   "cell_type": "code",
   "execution_count": 1,
   "metadata": {
    "collapsed": true
   },
   "outputs": [],
   "source": [
    "import pandas as pd"
   ]
  },
  {
   "cell_type": "markdown",
   "metadata": {},
   "source": [
    "Data from csv"
   ]
  },
  {
   "cell_type": "code",
   "execution_count": 2,
   "metadata": {
    "collapsed": true
   },
   "outputs": [],
   "source": [
    "props = pd.read_csv(\"http://first-python-notebook.readthedocs.io/_static/committees.csv\")"
   ]
  },
  {
   "cell_type": "code",
   "execution_count": 3,
   "metadata": {},
   "outputs": [
    {
     "data": {
      "text/html": [
       "<div>\n",
       "<style>\n",
       "    .dataframe thead tr:only-child th {\n",
       "        text-align: right;\n",
       "    }\n",
       "\n",
       "    .dataframe thead th {\n",
       "        text-align: left;\n",
       "    }\n",
       "\n",
       "    .dataframe tbody tr th {\n",
       "        vertical-align: top;\n",
       "    }\n",
       "</style>\n",
       "<table border=\"1\" class=\"dataframe\">\n",
       "  <thead>\n",
       "    <tr style=\"text-align: right;\">\n",
       "      <th></th>\n",
       "      <th>ocd_prop_id</th>\n",
       "      <th>calaccess_prop_id</th>\n",
       "      <th>ccdc_prop_id</th>\n",
       "      <th>prop_name</th>\n",
       "      <th>ccdc_committee_id</th>\n",
       "      <th>calaccess_committee_id</th>\n",
       "      <th>committee_name</th>\n",
       "      <th>committee_position</th>\n",
       "    </tr>\n",
       "  </thead>\n",
       "  <tbody>\n",
       "    <tr>\n",
       "      <th>15</th>\n",
       "      <td>ocd-contest/446ec3da-7de1-45f0-9f97-228e53c6a9f6</td>\n",
       "      <td>1382647</td>\n",
       "      <td>74</td>\n",
       "      <td>PROPOSITION 055 - TAX EXTENSION TO FUND EDUCAT...</td>\n",
       "      <td>397</td>\n",
       "      <td>1384591</td>\n",
       "      <td>MILLION VOTER PROJECT ACTION FUND - YES ON 55 ...</td>\n",
       "      <td>SUPPORT</td>\n",
       "    </tr>\n",
       "    <tr>\n",
       "      <th>16</th>\n",
       "      <td>ocd-contest/446ec3da-7de1-45f0-9f97-228e53c6a9f6</td>\n",
       "      <td>1382647</td>\n",
       "      <td>74</td>\n",
       "      <td>PROPOSITION 055 - TAX EXTENSION TO FUND EDUCAT...</td>\n",
       "      <td>398</td>\n",
       "      <td>1381382</td>\n",
       "      <td>YES ON 55 - CALIFORNIANS FOR BUDGET STABILITY,...</td>\n",
       "      <td>SUPPORT</td>\n",
       "    </tr>\n",
       "    <tr>\n",
       "      <th>17</th>\n",
       "      <td>ocd-contest/446ec3da-7de1-45f0-9f97-228e53c6a9f6</td>\n",
       "      <td>1382647</td>\n",
       "      <td>74</td>\n",
       "      <td>PROPOSITION 055 - TAX EXTENSION TO FUND EDUCAT...</td>\n",
       "      <td>399</td>\n",
       "      <td>1391170</td>\n",
       "      <td>MILLION VOTER PROJECT ACTION FUND - YES ON 55,...</td>\n",
       "      <td>SUPPORT</td>\n",
       "    </tr>\n",
       "    <tr>\n",
       "      <th>18</th>\n",
       "      <td>ocd-contest/446ec3da-7de1-45f0-9f97-228e53c6a9f6</td>\n",
       "      <td>1382647</td>\n",
       "      <td>74</td>\n",
       "      <td>PROPOSITION 055 - TAX EXTENSION TO FUND EDUCAT...</td>\n",
       "      <td>400</td>\n",
       "      <td>1390602</td>\n",
       "      <td>COMMON SENSE KIDS ACTION, INC., YES ON PROPS. ...</td>\n",
       "      <td>SUPPORT</td>\n",
       "    </tr>\n",
       "    <tr>\n",
       "      <th>19</th>\n",
       "      <td>ocd-contest/446ec3da-7de1-45f0-9f97-228e53c6a9f6</td>\n",
       "      <td>1382647</td>\n",
       "      <td>74</td>\n",
       "      <td>PROPOSITION 055 - TAX EXTENSION TO FUND EDUCAT...</td>\n",
       "      <td>401</td>\n",
       "      <td>1385538</td>\n",
       "      <td>CALIFORNIA KIDS CAMPAIGN, YES ON PROPS 55 &amp; 56...</td>\n",
       "      <td>SUPPORT</td>\n",
       "    </tr>\n",
       "    <tr>\n",
       "      <th>20</th>\n",
       "      <td>ocd-contest/446ec3da-7de1-45f0-9f97-228e53c6a9f6</td>\n",
       "      <td>1382647</td>\n",
       "      <td>74</td>\n",
       "      <td>PROPOSITION 055 - TAX EXTENSION TO FUND EDUCAT...</td>\n",
       "      <td>402</td>\n",
       "      <td>1385886</td>\n",
       "      <td>NO ON PROPOSITION 55, CALIFORNIA'S FUTURE PAC,...</td>\n",
       "      <td>OPPOSE</td>\n",
       "    </tr>\n",
       "    <tr>\n",
       "      <th>21</th>\n",
       "      <td>ocd-contest/446ec3da-7de1-45f0-9f97-228e53c6a9f6</td>\n",
       "      <td>1382647</td>\n",
       "      <td>74</td>\n",
       "      <td>PROPOSITION 055 - TAX EXTENSION TO FUND EDUCAT...</td>\n",
       "      <td>403</td>\n",
       "      <td>1372760</td>\n",
       "      <td>PICO CALIFORNIA - YES ON 55, 56, AND 57 (NON P...</td>\n",
       "      <td>SUPPORT</td>\n",
       "    </tr>\n",
       "    <tr>\n",
       "      <th>22</th>\n",
       "      <td>ocd-contest/446ec3da-7de1-45f0-9f97-228e53c6a9f6</td>\n",
       "      <td>1382647</td>\n",
       "      <td>74</td>\n",
       "      <td>PROPOSITION 055 - TAX EXTENSION TO FUND EDUCAT...</td>\n",
       "      <td>404</td>\n",
       "      <td>931704</td>\n",
       "      <td>UNITED TEACHERS LOS ANGELES-POLITICAL ACTION C...</td>\n",
       "      <td>SUPPORT</td>\n",
       "    </tr>\n",
       "  </tbody>\n",
       "</table>\n",
       "</div>"
      ],
      "text/plain": [
       "                                         ocd_prop_id  calaccess_prop_id  \\\n",
       "15  ocd-contest/446ec3da-7de1-45f0-9f97-228e53c6a9f6            1382647   \n",
       "16  ocd-contest/446ec3da-7de1-45f0-9f97-228e53c6a9f6            1382647   \n",
       "17  ocd-contest/446ec3da-7de1-45f0-9f97-228e53c6a9f6            1382647   \n",
       "18  ocd-contest/446ec3da-7de1-45f0-9f97-228e53c6a9f6            1382647   \n",
       "19  ocd-contest/446ec3da-7de1-45f0-9f97-228e53c6a9f6            1382647   \n",
       "20  ocd-contest/446ec3da-7de1-45f0-9f97-228e53c6a9f6            1382647   \n",
       "21  ocd-contest/446ec3da-7de1-45f0-9f97-228e53c6a9f6            1382647   \n",
       "22  ocd-contest/446ec3da-7de1-45f0-9f97-228e53c6a9f6            1382647   \n",
       "\n",
       "    ccdc_prop_id                                          prop_name  \\\n",
       "15            74  PROPOSITION 055 - TAX EXTENSION TO FUND EDUCAT...   \n",
       "16            74  PROPOSITION 055 - TAX EXTENSION TO FUND EDUCAT...   \n",
       "17            74  PROPOSITION 055 - TAX EXTENSION TO FUND EDUCAT...   \n",
       "18            74  PROPOSITION 055 - TAX EXTENSION TO FUND EDUCAT...   \n",
       "19            74  PROPOSITION 055 - TAX EXTENSION TO FUND EDUCAT...   \n",
       "20            74  PROPOSITION 055 - TAX EXTENSION TO FUND EDUCAT...   \n",
       "21            74  PROPOSITION 055 - TAX EXTENSION TO FUND EDUCAT...   \n",
       "22            74  PROPOSITION 055 - TAX EXTENSION TO FUND EDUCAT...   \n",
       "\n",
       "    ccdc_committee_id  calaccess_committee_id  \\\n",
       "15                397                 1384591   \n",
       "16                398                 1381382   \n",
       "17                399                 1391170   \n",
       "18                400                 1390602   \n",
       "19                401                 1385538   \n",
       "20                402                 1385886   \n",
       "21                403                 1372760   \n",
       "22                404                  931704   \n",
       "\n",
       "                                       committee_name committee_position  \n",
       "15  MILLION VOTER PROJECT ACTION FUND - YES ON 55 ...            SUPPORT  \n",
       "16  YES ON 55 - CALIFORNIANS FOR BUDGET STABILITY,...            SUPPORT  \n",
       "17  MILLION VOTER PROJECT ACTION FUND - YES ON 55,...            SUPPORT  \n",
       "18  COMMON SENSE KIDS ACTION, INC., YES ON PROPS. ...            SUPPORT  \n",
       "19  CALIFORNIA KIDS CAMPAIGN, YES ON PROPS 55 & 56...            SUPPORT  \n",
       "20  NO ON PROPOSITION 55, CALIFORNIA'S FUTURE PAC,...             OPPOSE  \n",
       "21  PICO CALIFORNIA - YES ON 55, 56, AND 57 (NON P...            SUPPORT  \n",
       "22  UNITED TEACHERS LOS ANGELES-POLITICAL ACTION C...            SUPPORT  "
      ]
     },
     "execution_count": 3,
     "metadata": {},
     "output_type": "execute_result"
    }
   ],
   "source": [
    "props[props.prop_name == \"PROPOSITION 055 - TAX EXTENSION TO FUND EDUCATION AND HEALTHCARE. INITIATIVE CONSTITUTIONAL AMENDMENT.\"]"
   ]
  },
  {
   "cell_type": "code",
   "execution_count": 4,
   "metadata": {
    "collapsed": true
   },
   "outputs": [],
   "source": [
    "prop = props[props.prop_name == \"PROPOSITION 055 - TAX EXTENSION TO FUND EDUCATION AND HEALTHCARE. INITIATIVE CONSTITUTIONAL AMENDMENT.\"]"
   ]
  },
  {
   "cell_type": "code",
   "execution_count": 5,
   "metadata": {
    "collapsed": true
   },
   "outputs": [],
   "source": [
    "contribs = pd.read_csv(\"http://www.firstpythonnotebook.org/_static/contributions.csv\")"
   ]
  },
  {
   "cell_type": "code",
   "execution_count": 6,
   "metadata": {
    "collapsed": true
   },
   "outputs": [],
   "source": [
    "merged = pd.merge(prop, contribs, on=\"calaccess_committee_id\")"
   ]
  },
  {
   "cell_type": "code",
   "execution_count": 7,
   "metadata": {
    "collapsed": true
   },
   "outputs": [],
   "source": [
    "support = merged[merged.committee_position == 'SUPPORT']"
   ]
  },
  {
   "cell_type": "code",
   "execution_count": 8,
   "metadata": {
    "collapsed": true
   },
   "outputs": [],
   "source": [
    "oppose = merged[merged.committee_position == 'OPPOSE']"
   ]
  },
  {
   "cell_type": "code",
   "execution_count": 9,
   "metadata": {},
   "outputs": [
    {
     "data": {
      "text/html": [
       "<div>\n",
       "<style>\n",
       "    .dataframe thead tr:only-child th {\n",
       "        text-align: right;\n",
       "    }\n",
       "\n",
       "    .dataframe thead th {\n",
       "        text-align: left;\n",
       "    }\n",
       "\n",
       "    .dataframe tbody tr th {\n",
       "        vertical-align: top;\n",
       "    }\n",
       "</style>\n",
       "<table border=\"1\" class=\"dataframe\">\n",
       "  <thead>\n",
       "    <tr style=\"text-align: right;\">\n",
       "      <th></th>\n",
       "      <th>contributor_firstname</th>\n",
       "      <th>contributor_lastname</th>\n",
       "      <th>committee_position</th>\n",
       "      <th>amount</th>\n",
       "    </tr>\n",
       "  </thead>\n",
       "  <tbody>\n",
       "    <tr>\n",
       "      <th>11</th>\n",
       "      <td>THOMAS</td>\n",
       "      <td>STEYER</td>\n",
       "      <td>SUPPORT</td>\n",
       "      <td>1750000.0</td>\n",
       "    </tr>\n",
       "    <tr>\n",
       "      <th>8</th>\n",
       "      <td>M QUINN</td>\n",
       "      <td>DELANEY</td>\n",
       "      <td>SUPPORT</td>\n",
       "      <td>75000.0</td>\n",
       "    </tr>\n",
       "    <tr>\n",
       "      <th>3</th>\n",
       "      <td>CAITLIN</td>\n",
       "      <td>HEISING</td>\n",
       "      <td>SUPPORT</td>\n",
       "      <td>50000.0</td>\n",
       "    </tr>\n",
       "    <tr>\n",
       "      <th>5</th>\n",
       "      <td>ELIZABETH</td>\n",
       "      <td>SIMONS</td>\n",
       "      <td>SUPPORT</td>\n",
       "      <td>50000.0</td>\n",
       "    </tr>\n",
       "    <tr>\n",
       "      <th>4</th>\n",
       "      <td>ELI</td>\n",
       "      <td>BROAD</td>\n",
       "      <td>SUPPORT</td>\n",
       "      <td>25000.0</td>\n",
       "    </tr>\n",
       "    <tr>\n",
       "      <th>7</th>\n",
       "      <td>KAITLYN</td>\n",
       "      <td>TRIGGER KRIEGER</td>\n",
       "      <td>SUPPORT</td>\n",
       "      <td>25000.0</td>\n",
       "    </tr>\n",
       "    <tr>\n",
       "      <th>2</th>\n",
       "      <td>ANNE</td>\n",
       "      <td>IRWIN</td>\n",
       "      <td>SUPPORT</td>\n",
       "      <td>20000.0</td>\n",
       "    </tr>\n",
       "    <tr>\n",
       "      <th>1</th>\n",
       "      <td>ALEXANDRA</td>\n",
       "      <td>MALLICK-WILLIAMS</td>\n",
       "      <td>SUPPORT</td>\n",
       "      <td>15000.0</td>\n",
       "    </tr>\n",
       "    <tr>\n",
       "      <th>0</th>\n",
       "      <td>ADAM</td>\n",
       "      <td>GUNTHER</td>\n",
       "      <td>SUPPORT</td>\n",
       "      <td>10000.0</td>\n",
       "    </tr>\n",
       "    <tr>\n",
       "      <th>9</th>\n",
       "      <td>MARSHALL</td>\n",
       "      <td>TUCK</td>\n",
       "      <td>SUPPORT</td>\n",
       "      <td>550.0</td>\n",
       "    </tr>\n",
       "    <tr>\n",
       "      <th>6</th>\n",
       "      <td>JENNIFER</td>\n",
       "      <td>THIEN</td>\n",
       "      <td>SUPPORT</td>\n",
       "      <td>100.0</td>\n",
       "    </tr>\n",
       "    <tr>\n",
       "      <th>10</th>\n",
       "      <td>RAY</td>\n",
       "      <td>VAN DIEST</td>\n",
       "      <td>SUPPORT</td>\n",
       "      <td>100.0</td>\n",
       "    </tr>\n",
       "  </tbody>\n",
       "</table>\n",
       "</div>"
      ],
      "text/plain": [
       "   contributor_firstname contributor_lastname committee_position     amount\n",
       "11                THOMAS               STEYER            SUPPORT  1750000.0\n",
       "8                M QUINN              DELANEY            SUPPORT    75000.0\n",
       "3                CAITLIN              HEISING            SUPPORT    50000.0\n",
       "5              ELIZABETH               SIMONS            SUPPORT    50000.0\n",
       "4                    ELI                BROAD            SUPPORT    25000.0\n",
       "7                KAITLYN      TRIGGER KRIEGER            SUPPORT    25000.0\n",
       "2                   ANNE                IRWIN            SUPPORT    20000.0\n",
       "1              ALEXANDRA     MALLICK-WILLIAMS            SUPPORT    15000.0\n",
       "0                   ADAM              GUNTHER            SUPPORT    10000.0\n",
       "9               MARSHALL                 TUCK            SUPPORT      550.0\n",
       "6               JENNIFER                THIEN            SUPPORT      100.0\n",
       "10                   RAY            VAN DIEST            SUPPORT      100.0"
      ]
     },
     "execution_count": 9,
     "metadata": {},
     "output_type": "execute_result"
    }
   ],
   "source": [
    "merged.groupby([\"contributor_firstname\", \"contributor_lastname\", \"committee_position\"]).amount.sum().reset_index().sort_values(\"amount\", ascending=False)"
   ]
  },
  {
   "cell_type": "markdown",
   "metadata": {
    "collapsed": true
   },
   "source": [
    "The largest contributor who supported this proposition was Thomas Steyer."
   ]
  }
 ],
 "metadata": {
  "kernelspec": {
   "display_name": "Python 2",
   "language": "python",
   "name": "python2"
  },
  "language_info": {
   "codemirror_mode": {
    "name": "ipython",
    "version": 2
   },
   "file_extension": ".py",
   "mimetype": "text/x-python",
   "name": "python",
   "nbconvert_exporter": "python",
   "pygments_lexer": "ipython2",
   "version": "2.7.10"
  }
 },
 "nbformat": 4,
 "nbformat_minor": 2
}
